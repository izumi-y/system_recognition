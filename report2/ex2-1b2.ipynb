{
 "cells": [
  {
   "cell_type": "code",
   "execution_count": 1,
   "metadata": {},
   "outputs": [
    {
     "name": "stderr",
     "output_type": "stream",
     "text": [
      "Using TensorFlow backend.\n",
      "using GPU: 0\n"
     ]
    }
   ],
   "source": [
    "import numpy as np\n",
    "import time\n",
    "\n",
    "import keras\n",
    "from keras.models import Sequential\n",
    "from keras.layers import Dense, Activation"
   ]
  },
  {
   "cell_type": "code",
   "execution_count": 2,
   "metadata": {
    "collapsed": true
   },
   "outputs": [],
   "source": [
    "model = Sequential()\n",
    "model.add(Dense(20, input_dim=1, activation='relu'))\n",
    "model.add(Dense(20, activation='relu'))\n",
    "model.add(Dense(1))"
   ]
  },
  {
   "cell_type": "code",
   "execution_count": 3,
   "metadata": {},
   "outputs": [
    {
     "data": {
      "image/svg+xml": [
       "<svg height=\"308pt\" viewBox=\"0.00 0.00 294.00 308.00\" width=\"294pt\" xmlns=\"http://www.w3.org/2000/svg\" xmlns:xlink=\"http://www.w3.org/1999/xlink\">\n",
       "<g class=\"graph\" id=\"graph0\" transform=\"scale(1 1) rotate(0) translate(4 304)\">\n",
       "<title>G</title>\n",
       "<polygon fill=\"white\" points=\"-4,4 -4,-304 290,-304 290,4 -4,4\" stroke=\"none\"/>\n",
       "<!-- 139666816375312 -->\n",
       "<g class=\"node\" id=\"node1\"><title>139666816375312</title>\n",
       "<polygon fill=\"none\" points=\"-0.5,-253 -0.5,-299 286.5,-299 286.5,-253 -0.5,-253\" stroke=\"black\"/>\n",
       "<text font-family=\"Times,serif\" font-size=\"14.00\" text-anchor=\"middle\" x=\"81\" y=\"-272.3\">dense_1_input: InputLayer</text>\n",
       "<polyline fill=\"none\" points=\"162.5,-253 162.5,-299 \" stroke=\"black\"/>\n",
       "<text font-family=\"Times,serif\" font-size=\"14.00\" text-anchor=\"middle\" x=\"190\" y=\"-283.8\">input:</text>\n",
       "<polyline fill=\"none\" points=\"162.5,-276 217.5,-276 \" stroke=\"black\"/>\n",
       "<text font-family=\"Times,serif\" font-size=\"14.00\" text-anchor=\"middle\" x=\"190\" y=\"-260.8\">output:</text>\n",
       "<polyline fill=\"none\" points=\"217.5,-253 217.5,-299 \" stroke=\"black\"/>\n",
       "<text font-family=\"Times,serif\" font-size=\"14.00\" text-anchor=\"middle\" x=\"252\" y=\"-283.8\">(None, 1)</text>\n",
       "<polyline fill=\"none\" points=\"217.5,-276 286.5,-276 \" stroke=\"black\"/>\n",
       "<text font-family=\"Times,serif\" font-size=\"14.00\" text-anchor=\"middle\" x=\"252\" y=\"-260.8\">(None, 1)</text>\n",
       "</g>\n",
       "<!-- 139666816374928 -->\n",
       "<g class=\"node\" id=\"node2\"><title>139666816374928</title>\n",
       "<polygon fill=\"none\" points=\"26.5,-169 26.5,-215 259.5,-215 259.5,-169 26.5,-169\" stroke=\"black\"/>\n",
       "<text font-family=\"Times,serif\" font-size=\"14.00\" text-anchor=\"middle\" x=\"77.5\" y=\"-188.3\">dense_1: Dense</text>\n",
       "<polyline fill=\"none\" points=\"128.5,-169 128.5,-215 \" stroke=\"black\"/>\n",
       "<text font-family=\"Times,serif\" font-size=\"14.00\" text-anchor=\"middle\" x=\"156\" y=\"-199.8\">input:</text>\n",
       "<polyline fill=\"none\" points=\"128.5,-192 183.5,-192 \" stroke=\"black\"/>\n",
       "<text font-family=\"Times,serif\" font-size=\"14.00\" text-anchor=\"middle\" x=\"156\" y=\"-176.8\">output:</text>\n",
       "<polyline fill=\"none\" points=\"183.5,-169 183.5,-215 \" stroke=\"black\"/>\n",
       "<text font-family=\"Times,serif\" font-size=\"14.00\" text-anchor=\"middle\" x=\"221.5\" y=\"-199.8\">(None, 1)</text>\n",
       "<polyline fill=\"none\" points=\"183.5,-192 259.5,-192 \" stroke=\"black\"/>\n",
       "<text font-family=\"Times,serif\" font-size=\"14.00\" text-anchor=\"middle\" x=\"221.5\" y=\"-176.8\">(None, 20)</text>\n",
       "</g>\n",
       "<!-- 139666816375312&#45;&gt;139666816374928 -->\n",
       "<g class=\"edge\" id=\"edge1\"><title>139666816375312-&gt;139666816374928</title>\n",
       "<path d=\"M143,-252.593C143,-244.118 143,-234.297 143,-225.104\" fill=\"none\" stroke=\"black\"/>\n",
       "<polygon fill=\"black\" points=\"146.5,-225.096 143,-215.096 139.5,-225.096 146.5,-225.096\" stroke=\"black\"/>\n",
       "</g>\n",
       "<!-- 139666816375056 -->\n",
       "<g class=\"node\" id=\"node3\"><title>139666816375056</title>\n",
       "<polygon fill=\"none\" points=\"26.5,-85 26.5,-131 259.5,-131 259.5,-85 26.5,-85\" stroke=\"black\"/>\n",
       "<text font-family=\"Times,serif\" font-size=\"14.00\" text-anchor=\"middle\" x=\"77.5\" y=\"-104.3\">dense_2: Dense</text>\n",
       "<polyline fill=\"none\" points=\"128.5,-85 128.5,-131 \" stroke=\"black\"/>\n",
       "<text font-family=\"Times,serif\" font-size=\"14.00\" text-anchor=\"middle\" x=\"156\" y=\"-115.8\">input:</text>\n",
       "<polyline fill=\"none\" points=\"128.5,-108 183.5,-108 \" stroke=\"black\"/>\n",
       "<text font-family=\"Times,serif\" font-size=\"14.00\" text-anchor=\"middle\" x=\"156\" y=\"-92.8\">output:</text>\n",
       "<polyline fill=\"none\" points=\"183.5,-85 183.5,-131 \" stroke=\"black\"/>\n",
       "<text font-family=\"Times,serif\" font-size=\"14.00\" text-anchor=\"middle\" x=\"221.5\" y=\"-115.8\">(None, 20)</text>\n",
       "<polyline fill=\"none\" points=\"183.5,-108 259.5,-108 \" stroke=\"black\"/>\n",
       "<text font-family=\"Times,serif\" font-size=\"14.00\" text-anchor=\"middle\" x=\"221.5\" y=\"-92.8\">(None, 20)</text>\n",
       "</g>\n",
       "<!-- 139666816374928&#45;&gt;139666816375056 -->\n",
       "<g class=\"edge\" id=\"edge2\"><title>139666816374928-&gt;139666816375056</title>\n",
       "<path d=\"M143,-168.593C143,-160.118 143,-150.297 143,-141.104\" fill=\"none\" stroke=\"black\"/>\n",
       "<polygon fill=\"black\" points=\"146.5,-141.096 143,-131.096 139.5,-141.096 146.5,-141.096\" stroke=\"black\"/>\n",
       "</g>\n",
       "<!-- 139666816375568 -->\n",
       "<g class=\"node\" id=\"node4\"><title>139666816375568</title>\n",
       "<polygon fill=\"none\" points=\"26.5,-1 26.5,-47 259.5,-47 259.5,-1 26.5,-1\" stroke=\"black\"/>\n",
       "<text font-family=\"Times,serif\" font-size=\"14.00\" text-anchor=\"middle\" x=\"77.5\" y=\"-20.3\">dense_3: Dense</text>\n",
       "<polyline fill=\"none\" points=\"128.5,-1 128.5,-47 \" stroke=\"black\"/>\n",
       "<text font-family=\"Times,serif\" font-size=\"14.00\" text-anchor=\"middle\" x=\"156\" y=\"-31.8\">input:</text>\n",
       "<polyline fill=\"none\" points=\"128.5,-24 183.5,-24 \" stroke=\"black\"/>\n",
       "<text font-family=\"Times,serif\" font-size=\"14.00\" text-anchor=\"middle\" x=\"156\" y=\"-8.8\">output:</text>\n",
       "<polyline fill=\"none\" points=\"183.5,-1 183.5,-47 \" stroke=\"black\"/>\n",
       "<text font-family=\"Times,serif\" font-size=\"14.00\" text-anchor=\"middle\" x=\"221.5\" y=\"-31.8\">(None, 20)</text>\n",
       "<polyline fill=\"none\" points=\"183.5,-24 259.5,-24 \" stroke=\"black\"/>\n",
       "<text font-family=\"Times,serif\" font-size=\"14.00\" text-anchor=\"middle\" x=\"221.5\" y=\"-8.8\">(None, 1)</text>\n",
       "</g>\n",
       "<!-- 139666816375056&#45;&gt;139666816375568 -->\n",
       "<g class=\"edge\" id=\"edge3\"><title>139666816375056-&gt;139666816375568</title>\n",
       "<path d=\"M143,-84.5931C143,-76.1177 143,-66.2974 143,-57.104\" fill=\"none\" stroke=\"black\"/>\n",
       "<polygon fill=\"black\" points=\"146.5,-57.0958 143,-47.0959 139.5,-57.0959 146.5,-57.0958\" stroke=\"black\"/>\n",
       "</g>\n",
       "</g>\n",
       "</svg>"
      ],
      "text/plain": [
       "<IPython.core.display.SVG object>"
      ]
     },
     "execution_count": 3,
     "metadata": {},
     "output_type": "execute_result"
    }
   ],
   "source": [
    "# model の表示\n",
    "from IPython.display import SVG\n",
    "from keras.utils.vis_utils import model_to_dot\n",
    "SVG(model_to_dot(model, show_shapes=True, show_layer_names=True).create(prog='dot', format='svg'))"
   ]
  },
  {
   "cell_type": "code",
   "execution_count": 4,
   "metadata": {
    "collapsed": true
   },
   "outputs": [],
   "source": [
    "sdg = keras.optimizers.SGD(lr=0.0001, momentum=0.0, decay=0.0)\n",
    "# sdg_momentum = keras.optimizers.SGD(lr=0.0001, momentum=0.9, decay=0)  # momentamありの場合．\n",
    "rmsprop = keras.optimizers.RMSprop()\n",
    "# adam = keras.optimizers.Adam()\n",
    "\n",
    "model.compile(optimizer=rmsprop, loss='mean_squared_error')"
   ]
  },
  {
   "cell_type": "code",
   "execution_count": 5,
   "metadata": {
    "collapsed": true
   },
   "outputs": [],
   "source": [
    "def f(x):\n",
    "    return 0.5*(x-2)**2-5\n",
    "\n",
    "X_train=np.arange(-10,10,0.01,dtype=np.float32)\n",
    "Y_train= f(X_train)\n",
    "# X_train, Y_trainは１次元配列なので，reshapeで ２次元の(n,dim)に変換します．dim=1です．\n",
    "X_train=np.reshape(X_train,[-1,1])   # (2000,)  -> (2000,1)\n",
    "Y_train=np.reshape(Y_train,[-1,1]) \n",
    "num_train=np.size(X_train)\n",
    "\n",
    "# テスト用の x も準備します．\n",
    "X_val=np.arange(-8,8,0.1,dtype=np.float32)\n",
    "Y_val= f(X_val)\n",
    "X_val=np.reshape(X_val,[-1,1])\n",
    "Y_val=np.reshape(Y_val,[-1,1])\n",
    "num_val=np.size(X_val)"
   ]
  },
  {
   "cell_type": "code",
   "execution_count": 6,
   "metadata": {
    "collapsed": true
   },
   "outputs": [],
   "source": [
    "%matplotlib inline\n",
    "import matplotlib.pyplot as plt\n",
    "from IPython import display\n",
    "import keras\n",
    "\n",
    "# callback のクラス ShowGraphを定義\n",
    "# グラフ表示で必要なので，コンストラクタで，model, 最大エポック数 を受け取っておく．\n",
    "# model は，学習途中のパラメータを用いて， y=f(x)を描画するのに必要．\n",
    "class ShowGraph(keras.callbacks.Callback):\n",
    "    def __init__(self,model,max_epoch):\n",
    "        # 表示エリアの設定\n",
    "        self.fig=plt.figure()\n",
    "        self.fig1 = self.fig.add_subplot(121)\n",
    "        self.fig1.axis([0, max_epoch, 0, 50])\n",
    "        self.fig2 = self.fig.add_subplot(122)\n",
    "        self.fig2.axis([-8,8,-10,30])\n",
    "        self.fig1.set_title('loss')\n",
    "        self.fig1.set_ylabel('loss')\n",
    "        self.fig1.set_xlabel('epoch')\n",
    "        self.model=model\n",
    "        self.max_epoch=max_epoch\n",
    "        self.start=time.time()\n",
    "    \n",
    "    # 学習の最初に呼び出される\n",
    "    def on_train_begin(self, logs={}):\n",
    "        self.losses=[]\n",
    "        self.losses_val=[]\n",
    "        self.n_epoch=[]\n",
    "    \n",
    "    # 各epochの最後に呼び出される\n",
    "    def on_epoch_end(self, epoch, logs={}):\n",
    "        self.n_epoch.append(epoch)\n",
    "        self.losses.append(logs.get('loss'))\n",
    "        self.losses_val.append(logs.get('val_loss'))     \n",
    "        self.loss_val=logs.get('val_loss')\n",
    "    \n",
    "        display.clear_output(wait = True)\n",
    "        self.fig1.plot(self.n_epoch,self.losses,\"b\")\n",
    "        self.fig1.plot(self.n_epoch,self.losses_val,\"r\")\n",
    "        Y_pred=self.model.predict_on_batch(X_val)\n",
    "        x0=np.reshape(X_val,[-1])\n",
    "        y0=np.reshape(Y_pred,[-1])\n",
    "        self.fig2.plot(x0,y0,\"b\")\n",
    "        self.fig2.plot(x0,f(x0),\"r\")\n",
    "        self.fig2.set_title('y=0.5(x-2)^2-5')\n",
    "        self.fig2.set_ylabel('f(x)')\n",
    "        self.fig2.set_xlabel('x')\n",
    "        display.display(self.fig)\n",
    "        if epoch<self.max_epoch-1:\n",
    "            self.fig2.cla()\n",
    "    \n",
    "    # デストラクタ(オブジェクトが消滅時に実行される)  \n",
    "    # グラフが２つ表示されるのを防止．さらに最終val loss値の表示．\n",
    "    def __del__(self):\n",
    "        display.clear_output(wait = True)\n",
    "        print(\"loss_val:\",self.loss_val) \n",
    "        print('Time: ',time.time()-self.start)"
   ]
  },
  {
   "cell_type": "code",
   "execution_count": 7,
   "metadata": {
    "scrolled": true
   },
   "outputs": [
    {
     "name": "stdout",
     "output_type": "stream",
     "text": [
      "('loss_val:', 0.0063085422298172489)\n",
      "('Time: ', 34.96592998504639)\n"
     ]
    },
    {
     "data": {
      "image/png": "[encoded data removed]",
      "text/plain": [
       "<matplotlib.figure.Figure at 0x7f06b6ef39d0>"
      ]
     },
     "metadata": {},
     "output_type": "display_data"
    }
   ],
   "source": [
    "num_epoch=100\n",
    "show_graph=ShowGraph(model,num_epoch)\n",
    "model.fit(X_train, Y_train, batch_size=20, epochs=num_epoch, validation_data=(X_val,Y_val), verbose=0, callbacks=[show_graph])\n",
    "del show_graph"
   ]
  },
  {
   "cell_type": "code",
   "execution_count": null,
   "metadata": {
    "collapsed": true
   },
   "outputs": [],
   "source": [
    "通常のSDGに比べて、早く収束し、ロスもより下がっている。"
   ]
  }
 ],
 "metadata": {
  "kernelspec": {
   "display_name": "Python 2",
   "language": "python",
   "name": "python2"
  },
  "language_info": {
   "codemirror_mode": {
    "name": "ipython",
    "version": 2
   },
   "file_extension": ".py",
   "mimetype": "text/x-python",
   "name": "python",
   "nbconvert_exporter": "python",
   "pygments_lexer": "ipython2",
   "version": "2.7.6"
  }
 },
 "nbformat": 4,
 "nbformat_minor": 2
}
